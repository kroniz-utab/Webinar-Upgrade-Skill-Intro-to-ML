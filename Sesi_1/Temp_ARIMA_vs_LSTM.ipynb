{
  "nbformat": 4,
  "nbformat_minor": 0,
  "metadata": {
    "colab": {
      "name": "Temp-ARIMA-vs-LSTM.ipynb",
      "provenance": [],
      "authorship_tag": "ABX9TyNb/tQc72peXKxpgTajr3sw",
      "include_colab_link": true
    },
    "kernelspec": {
      "name": "python3",
      "display_name": "Python 3"
    }
  },
  "cells": [
    {
      "cell_type": "markdown",
      "metadata": {
        "id": "view-in-github",
        "colab_type": "text"
      },
      "source": [
        "<a href=\"https://colab.research.google.com/github/kroniz-utab/Webinar-Upgrade-Skill-Intro-to-ML/blob/master/Temp_ARIMA_vs_LSTM.ipynb\" target=\"_parent\"><img src=\"https://colab.research.google.com/assets/colab-badge.svg\" alt=\"Open In Colab\"/></a>"
      ]
    },
    {
      "cell_type": "code",
      "metadata": {
        "id": "mQsAStrY67S0",
        "colab_type": "code",
        "colab": {}
      },
      "source": [
        "!pip install pmdarima\n",
        "import numpy as np\n",
        "import pandas as pd\n",
        "from statsmodels.tsa.statespace.sarimax import SARIMAX\n",
        "from statsmodels.graphics.tsaplots import plot_acf, plot_pacf\n",
        "from statsmodels.tsa.seasonal import seasonal_decompose\n",
        "from pmdarima import auto_arima\n",
        "from sklearn.metrics import mean_squared_error\n",
        "from statsmodels.tools.eval_measures import rmse\n",
        "import warnings\n",
        "warnings.filterwarnings(\"ignore\")\n",
        "\n",
        "from google.colab import files\n"
      ],
      "execution_count": null,
      "outputs": []
    },
    {
      "cell_type": "code",
      "metadata": {
        "id": "wM66GQKgZ4Hh",
        "colab_type": "code",
        "colab": {}
      },
      "source": [
        "uploaded = files.upload()"
      ],
      "execution_count": null,
      "outputs": []
    },
    {
      "cell_type": "code",
      "metadata": {
        "id": "FysRNu_a678s",
        "colab_type": "code",
        "colab": {}
      },
      "source": [
        "df = pd.read_csv('temp-and-rain-bangladesh.csv')\n",
        "df.head()"
      ],
      "execution_count": null,
      "outputs": []
    },
    {
      "cell_type": "code",
      "metadata": {
        "id": "zqKzlQyODEUr",
        "colab_type": "code",
        "colab": {}
      },
      "source": [
        "df['Date'] = df['Year'].astype(str) + '-' + df['Month'].astype(str) \n",
        "df.head()"
      ],
      "execution_count": null,
      "outputs": []
    },
    {
      "cell_type": "code",
      "metadata": {
        "id": "tI7DzPlK7Uyu",
        "colab_type": "code",
        "colab": {}
      },
      "source": [
        "df = pd.DataFrame({'date':df['Date'],'temp':df['tem']})\n",
        "df.head()"
      ],
      "execution_count": null,
      "outputs": []
    },
    {
      "cell_type": "code",
      "metadata": {
        "id": "NqP1mFdC8ADk",
        "colab_type": "code",
        "colab": {}
      },
      "source": [
        "df.tail()"
      ],
      "execution_count": null,
      "outputs": []
    },
    {
      "cell_type": "code",
      "metadata": {
        "id": "MY7nq5pnXS81",
        "colab_type": "code",
        "colab": {}
      },
      "source": [
        "# Get Data Last 10 Years\n",
        "time = 12*10\n",
        "df = df[len(df)-time:]\n",
        "df"
      ],
      "execution_count": null,
      "outputs": []
    },
    {
      "cell_type": "code",
      "metadata": {
        "id": "a7a0biEi7e5Y",
        "colab_type": "code",
        "colab": {}
      },
      "source": [
        "df.date = pd.to_datetime(df.date)\n",
        "\n",
        "df.head()"
      ],
      "execution_count": null,
      "outputs": []
    },
    {
      "cell_type": "code",
      "metadata": {
        "id": "wm8O-d9-7r05",
        "colab_type": "code",
        "colab": {}
      },
      "source": [
        "df = df.set_index(\"date\")\n",
        "df.head()"
      ],
      "execution_count": null,
      "outputs": []
    },
    {
      "cell_type": "code",
      "metadata": {
        "id": "MFWXcMD7EI_v",
        "colab_type": "code",
        "colab": {}
      },
      "source": [
        "df.info()"
      ],
      "execution_count": null,
      "outputs": []
    },
    {
      "cell_type": "code",
      "metadata": {
        "id": "CpTp8TuK7zJF",
        "colab_type": "code",
        "colab": {}
      },
      "source": [
        "df.index.freq = 'MS'\n",
        "\n",
        "ax = df['temp'].plot(figsize = (16,5), title = \"Monthly Temperature Average\")\n",
        "ax.set(xlabel='Dates',ylabel='Temp Average')"
      ],
      "execution_count": null,
      "outputs": []
    },
    {
      "cell_type": "code",
      "metadata": {
        "id": "tCV55N008NrD",
        "colab_type": "code",
        "colab": {}
      },
      "source": [
        "sea = seasonal_decompose(df['temp'], model='add')\n",
        "sea.plot();"
      ],
      "execution_count": null,
      "outputs": []
    },
    {
      "cell_type": "code",
      "metadata": {
        "id": "6Lg3XNdaE5Fc",
        "colab_type": "code",
        "colab": {}
      },
      "source": [
        "import matplotlib.pyplot as plt\n",
        "plt.figure(figsize = (16,7))\n",
        "sea.seasonal.plot()"
      ],
      "execution_count": null,
      "outputs": []
    },
    {
      "cell_type": "code",
      "metadata": {
        "id": "_kYAXxSQFPRu",
        "colab_type": "code",
        "colab": {}
      },
      "source": [
        "auto_arima(df['temp'], seasonal=True, m=12, max_p=7, max_d=5, max_q=7,\n",
        "           max_P=4, max_D=4, max_Q=4).summary()"
      ],
      "execution_count": null,
      "outputs": []
    },
    {
      "cell_type": "code",
      "metadata": {
        "id": "G37WijC5FvEg",
        "colab_type": "code",
        "colab": {}
      },
      "source": [
        "train_data = df[:len(df)-12]\n",
        "test_data = df[len(df)-12:]\n",
        "\n",
        "model = SARIMAX(train_data['temp'],\n",
        "                order=(2,0,1),\n",
        "                seasonal_order=(1,1,1,12))\n",
        "model_result = model.fit()\n",
        "model_result.summary()"
      ],
      "execution_count": null,
      "outputs": []
    },
    {
      "cell_type": "code",
      "metadata": {
        "id": "8HltGOovKlLP",
        "colab_type": "code",
        "colab": {}
      },
      "source": [
        "model_pred = model_result.predict(start= len(train_data),\n",
        "                                  end = len(df)-1,\n",
        "                                  typ='levels').rename('Temperature Prediction')\n",
        "model_pred"
      ],
      "execution_count": null,
      "outputs": []
    },
    {
      "cell_type": "code",
      "metadata": {
        "id": "6a2pcT5sLjiI",
        "colab_type": "code",
        "colab": {}
      },
      "source": [
        "test_data['temp'].plot(figsize = (16,5), legend=True)\n",
        "model_pred.plot(legend=True)"
      ],
      "execution_count": null,
      "outputs": []
    },
    {
      "cell_type": "code",
      "metadata": {
        "id": "O88GAhYzMph6",
        "colab_type": "code",
        "colab": {}
      },
      "source": [
        "test_data['ARIMA_Pred'] = model_pred\n",
        "test_data"
      ],
      "execution_count": null,
      "outputs": []
    },
    {
      "cell_type": "code",
      "metadata": {
        "id": "WpxUawXzNhQH",
        "colab_type": "code",
        "colab": {}
      },
      "source": [
        "arima_rmse_error = rmse(test_data['temp'], model_pred)\n",
        "arima_mse_error = arima_rmse_error**2\n",
        "mean_value = df['temp'].mean()\n",
        "print(f'MSE Error: {arima_mse_error}\\nRMSE Error: {arima_rmse_error}\\nMean:{mean_value}')"
      ],
      "execution_count": null,
      "outputs": []
    },
    {
      "cell_type": "code",
      "metadata": {
        "id": "QDueFG3AOLnZ",
        "colab_type": "code",
        "colab": {}
      },
      "source": [
        "# LSTM\n",
        "from sklearn.preprocessing import MinMaxScaler\n",
        "scaler = MinMaxScaler()\n",
        "\n",
        "scaler.fit(train_data)\n",
        "scaled_train_data = scaler.transform(train_data)\n",
        "scaled_test_data = scaler.transform(test_data)"
      ],
      "execution_count": null,
      "outputs": []
    },
    {
      "cell_type": "code",
      "metadata": {
        "id": "odeHtjkfOkFw",
        "colab_type": "code",
        "colab": {}
      },
      "source": [
        "from keras.preprocessing.sequence import TimeseriesGenerator\n",
        "\n",
        "n_input = 12\n",
        "n_features = 1\n",
        "generator = TimeseriesGenerator(scaled_train_data, \n",
        "                                scaled_train_data, \n",
        "                                length=n_input,\n",
        "                                batch_size=1)\n",
        "\n",
        "from keras.models import Sequential\n",
        "from keras.layers import Dense, LSTM\n",
        "\n",
        "lstm_model = Sequential()\n",
        "lstm_model.add(LSTM(200, activation='relu', input_shape=(n_input, n_features)))\n",
        "lstm_model.add(Dense(1))\n",
        "lstm_model.compile(optimizer='adam', loss='mse')\n",
        "\n",
        "lstm_model.summary()"
      ],
      "execution_count": null,
      "outputs": []
    },
    {
      "cell_type": "code",
      "metadata": {
        "id": "Z5nWl_MmPulx",
        "colab_type": "code",
        "colab": {}
      },
      "source": [
        "lstm_model.fit_generator(generator,epochs=20)"
      ],
      "execution_count": null,
      "outputs": []
    },
    {
      "cell_type": "code",
      "metadata": {
        "id": "dnJSg2iTQBl9",
        "colab_type": "code",
        "colab": {}
      },
      "source": [
        "losses_lstm = lstm_model.history.history['loss']\n",
        "plt.figure(figsize=(14,5))\n",
        "plt.xlabel(\"Epochs\")\n",
        "plt.ylabel(\"Loss\")\n",
        "plt.xticks(np.arange(0,21,1))\n",
        "plt.plot(range(len(losses_lstm)), losses_lstm)"
      ],
      "execution_count": null,
      "outputs": []
    },
    {
      "cell_type": "code",
      "metadata": {
        "id": "4y1yvl38RzI-",
        "colab_type": "code",
        "colab": {}
      },
      "source": [
        "lstm_predictions_scaled = list()\n",
        "\n",
        "batch = scaled_train_data[-n_input:]\n",
        "current_batch = batch.reshape((1, n_input, n_features))\n",
        "\n",
        "for i in range(len(test_data)):\n",
        "  lstm_pred = lstm_model.predict(current_batch)[0]\n",
        "  lstm_predictions_scaled.append(lstm_pred)\n",
        "  current_batch = np.append(current_batch[:,1:,:],[[lstm_pred]],axis=1)"
      ],
      "execution_count": null,
      "outputs": []
    },
    {
      "cell_type": "code",
      "metadata": {
        "id": "HhmepaFYSvkj",
        "colab_type": "code",
        "colab": {}
      },
      "source": [
        "lstm_predictions_scaled"
      ],
      "execution_count": null,
      "outputs": []
    },
    {
      "cell_type": "code",
      "metadata": {
        "id": "a03PfyQrTDDx",
        "colab_type": "code",
        "colab": {}
      },
      "source": [
        "lstm_prediction = scaler.inverse_transform(lstm_predictions_scaled)\n",
        "\n",
        "lstm_prediction"
      ],
      "execution_count": null,
      "outputs": []
    },
    {
      "cell_type": "code",
      "metadata": {
        "id": "Rlw3ggU7TeOG",
        "colab_type": "code",
        "colab": {}
      },
      "source": [
        "test_data['LSTM_Predictions'] = lstm_prediction\n",
        "\n",
        "test_data"
      ],
      "execution_count": null,
      "outputs": []
    },
    {
      "cell_type": "code",
      "metadata": {
        "id": "IiYOOFG_TucM",
        "colab_type": "code",
        "colab": {}
      },
      "source": [
        "test_data['temp'].plot(figsize = (16,5), legend=True)\n",
        "test_data['LSTM_Predictions'].plot(legend=True)"
      ],
      "execution_count": null,
      "outputs": []
    },
    {
      "cell_type": "code",
      "metadata": {
        "id": "2IyTmXgHhgY_",
        "colab_type": "code",
        "colab": {}
      },
      "source": [
        "lstm_rmse_error = rmse(test_data['temp'],test_data['LSTM_Predictions'])\n",
        "lstm_mse_error = lstm_rmse_error**2\n",
        "mean_value = df['temp'].mean()\n",
        "print(f'MSE Error: {lstm_mse_error}\\nRMSE Error: {lstm_rmse_error}\\nMean:{mean_value}')"
      ],
      "execution_count": null,
      "outputs": []
    },
    {
      "cell_type": "code",
      "metadata": {
        "id": "N5I9z4OCiTVu",
        "colab_type": "code",
        "colab": {}
      },
      "source": [
        "rmse_error = [arima_rmse_error, lstm_rmse_error]\n",
        "mse_error = [arima_mse_error, lstm_mse_error]\n",
        "\n",
        "errors = pd.DataFrame({'Model':['ARIMA','LSTM'],'RMSE Errors': rmse_error,'MSE Errors': mse_error})\n",
        "errors"
      ],
      "execution_count": null,
      "outputs": []
    },
    {
      "cell_type": "code",
      "metadata": {
        "id": "YYQivBStkxfC",
        "colab_type": "code",
        "colab": {}
      },
      "source": [
        "future_pred = model_result.predict(start= len(df),\n",
        "                                   end = len(df)+12,\n",
        "                                   typ='levels').rename('Temperature Future Prediction')\n",
        "future_pred"
      ],
      "execution_count": null,
      "outputs": []
    }
  ]
}
