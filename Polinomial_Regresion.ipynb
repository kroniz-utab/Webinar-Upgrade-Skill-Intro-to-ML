{
  "nbformat": 4,
  "nbformat_minor": 0,
  "metadata": {
    "colab": {
      "name": "Polinomial_Regresion.ipynb",
      "provenance": [],
      "authorship_tag": "ABX9TyMjkqKWK4bOQpLMaeJr1K0a",
      "include_colab_link": true
    },
    "kernelspec": {
      "name": "python3",
      "display_name": "Python 3"
    }
  },
  "cells": [
    {
      "cell_type": "markdown",
      "metadata": {
        "id": "view-in-github",
        "colab_type": "text"
      },
      "source": [
        "<a href=\"https://colab.research.google.com/github/kroniz-utab/Webinar-Upgrade-Skill-Intro-to-ML/blob/master/Polinomial_Regresion.ipynb\" target=\"_parent\"><img src=\"https://colab.research.google.com/assets/colab-badge.svg\" alt=\"Open In Colab\"/></a>"
      ]
    },
    {
      "cell_type": "code",
      "metadata": {
        "id": "6tTlKyNKqtfd",
        "colab_type": "code",
        "colab": {}
      },
      "source": [
        "import pandas as pd\n",
        "import numpy as np\n",
        "import matplotlib.pyplot as plt\n",
        "import seaborn as sns\n",
        "\n",
        "from sklearn.linear_model import LinearRegression\n",
        "from sklearn.preprocessing import PolynomialFeatures\n",
        "from sklearn.metrics import r2_score, mean_squared_error\n",
        "\n",
        "import warnings\n",
        "warnings.filterwarnings('ignore')\n",
        "\n",
        "from google.colab import files"
      ],
      "execution_count": null,
      "outputs": []
    },
    {
      "cell_type": "code",
      "metadata": {
        "id": "QC8spD5urKKZ",
        "colab_type": "code",
        "colab": {}
      },
      "source": [
        "uploaded = files.upload()"
      ],
      "execution_count": null,
      "outputs": []
    },
    {
      "cell_type": "code",
      "metadata": {
        "id": "cWWfxA1Jr0Hy",
        "colab_type": "code",
        "colab": {}
      },
      "source": [
        "df = pd.read_csv('Daily-Update IDN-COVID19 - update 21-7-2020.csv',\n",
        "                 skiprows = (lambda x: x in [1]))\n",
        "\n",
        "df"
      ],
      "execution_count": null,
      "outputs": []
    },
    {
      "cell_type": "code",
      "metadata": {
        "id": "WQfagyPXx3oU",
        "colab_type": "code",
        "colab": {}
      },
      "source": [
        "df.Date = pd.to_datetime(df.Date)\n",
        "df.reset_index(inplace=True)\n",
        "df['Hari'] = np.arange(df.shape[0])\n",
        "df = df[['Date','Hari','Cumulative_cases']]\n",
        "df"
      ],
      "execution_count": null,
      "outputs": []
    },
    {
      "cell_type": "code",
      "metadata": {
        "id": "GNcHJwEKsIUd",
        "colab_type": "code",
        "colab": {}
      },
      "source": [
        "df.info()"
      ],
      "execution_count": null,
      "outputs": []
    },
    {
      "cell_type": "code",
      "metadata": {
        "id": "fg8r9084-qXu",
        "colab_type": "code",
        "colab": {}
      },
      "source": [
        "plt.plot(df['Hari'],df['Cumulative_cases'], marker='o')\n",
        "plt.show()"
      ],
      "execution_count": null,
      "outputs": []
    },
    {
      "cell_type": "code",
      "metadata": {
        "id": "5E0LlGsLDH8F",
        "colab_type": "code",
        "colab": {}
      },
      "source": [
        "# preprocessing\n",
        "poly_degree = 7\n",
        "\n",
        "x = np.array(df['Hari'])\n",
        "\n",
        "poly = PolynomialFeatures(poly_degree, include_bias=False)\n",
        "poly.fit(x.reshape(-1,1))\n",
        "day_poly = poly.transform(x.reshape(-1,1))"
      ],
      "execution_count": null,
      "outputs": []
    },
    {
      "cell_type": "code",
      "metadata": {
        "id": "u5xA9xCLEGT3",
        "colab_type": "code",
        "colab": {}
      },
      "source": [
        "model = LinearRegression()\n",
        "model.fit(day_poly, df['Cumulative_cases'])\n",
        "case_pred = model.predict(day_poly)"
      ],
      "execution_count": null,
      "outputs": []
    },
    {
      "cell_type": "code",
      "metadata": {
        "id": "VHiHOi8ZEPuR",
        "colab_type": "code",
        "colab": {}
      },
      "source": [
        "r2 = r2_score(df['Cumulative_cases'], case_pred)\n",
        "rmse = np.sqrt(mean_squared_error(df['Cumulative_cases'], \n",
        "                                  case_pred))\n",
        "print(r2)\n",
        "print(rmse)"
      ],
      "execution_count": null,
      "outputs": []
    },
    {
      "cell_type": "code",
      "metadata": {
        "id": "naBgxcTREsxj",
        "colab_type": "code",
        "colab": {}
      },
      "source": [
        "date_pred = pd.date_range('20200715', periods = 10)\n",
        "day_pred = np.arange(135, 135+10)\n",
        "cases_pred = model.predict(poly.fit_transform(day_pred.reshape(-1,1))).round()"
      ],
      "execution_count": null,
      "outputs": []
    },
    {
      "cell_type": "code",
      "metadata": {
        "id": "nJvZ-mNtFkjh",
        "colab_type": "code",
        "colab": {}
      },
      "source": [
        "prediksi = pd.DataFrame({'Date':date_pred,\n",
        "                         'Day-Pred':day_pred,\n",
        "                         'cases_pred':cases_pred})\n",
        "prediksi['real'] = np.NaN*30\n",
        "prediksi['real'][0:7] = df['Cumulative_cases'][135:142]\n",
        "prediksi"
      ],
      "execution_count": null,
      "outputs": []
    },
    {
      "cell_type": "code",
      "metadata": {
        "id": "XEpGYfb0GRvL",
        "colab_type": "code",
        "colab": {}
      },
      "source": [
        "sns.set()\n",
        "plt.figure(figsize=(16,8))\n",
        "\n",
        "plt.scatter(df['Date'], df['Cumulative_cases'])\n",
        "plt.plot(prediksi['Date'], prediksi['cases_pred'], 'g-')\n",
        "plt.title('Prediksi Kasus COVID 19 di Indonesia s/d 13 Agustus 2020')\n",
        "plt.xlabel('Hari')\n",
        "plt.ylabel('Total Kasus')\n",
        "plt.show()"
      ],
      "execution_count": null,
      "outputs": []
    },
    {
      "cell_type": "code",
      "metadata": {
        "id": "H__NegyO0gAw",
        "colab_type": "code",
        "colab": {}
      },
      "source": [
        ""
      ],
      "execution_count": null,
      "outputs": []
    }
  ]
}