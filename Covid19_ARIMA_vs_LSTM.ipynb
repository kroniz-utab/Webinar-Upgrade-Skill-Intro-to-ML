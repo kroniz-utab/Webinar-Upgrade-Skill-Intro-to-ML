{
  "nbformat": 4,
  "nbformat_minor": 0,
  "metadata": {
    "colab": {
      "name": "Covid19-ARIMA-vs-LSTM.ipynb",
      "provenance": [],
      "authorship_tag": "ABX9TyONzLA3qkaAQYxwC1j7uYvM",
      "include_colab_link": true
    },
    "kernelspec": {
      "name": "python3",
      "display_name": "Python 3"
    }
  },
  "cells": [
    {
      "cell_type": "markdown",
      "metadata": {
        "id": "view-in-github",
        "colab_type": "text"
      },
      "source": [
        "<a href=\"https://colab.research.google.com/github/kroniz-utab/Webinar-Upgrade-Skill-Intro-to-ML/blob/master/Covid19_ARIMA_vs_LSTM.ipynb\" target=\"_parent\"><img src=\"https://colab.research.google.com/assets/colab-badge.svg\" alt=\"Open In Colab\"/></a>"
      ]
    },
    {
      "cell_type": "code",
      "metadata": {
        "id": "b8zjh4JGzQQh",
        "colab_type": "code",
        "colab": {}
      },
      "source": [
        "!pip install pmdarima"
      ],
      "execution_count": null,
      "outputs": []
    },
    {
      "cell_type": "code",
      "metadata": {
        "id": "xZTxBbVezRHb",
        "colab_type": "code",
        "colab": {}
      },
      "source": [
        "import numpy as np\n",
        "import pandas as pd\n",
        "\n",
        "from statsmodels.tsa.statespace.sarimax import SARIMAX\n",
        "from statsmodels.graphics.tsaplots import plot_acf, plot_pacf\n",
        "from statsmodels.tsa.seasonal import seasonal_decompose\n",
        "\n",
        "from pmdarima import auto_arima\n",
        "\n",
        "from sklearn.metrics import mean_squared_error\n",
        "from statsmodels.tools.eval_measures import rmse\n",
        "import warnings\n",
        "warnings.filterwarnings(\"ignore\")\n",
        "\n",
        "from google.colab import files"
      ],
      "execution_count": null,
      "outputs": []
    },
    {
      "cell_type": "code",
      "metadata": {
        "id": "tBwODyKP0dCI",
        "colab_type": "code",
        "colab": {}
      },
      "source": [
        "uploaded = files.upload()"
      ],
      "execution_count": null,
      "outputs": []
    },
    {
      "cell_type": "code",
      "metadata": {
        "id": "bDH0cB930huZ",
        "colab_type": "code",
        "colab": {}
      },
      "source": [
        "df = pd.read_csv('Daily-Update IDN-COVID19 - update 21-7-2020.csv',\n",
        "                 skiprows=lambda x: x in [1])\n",
        "df.head()"
      ],
      "execution_count": null,
      "outputs": []
    },
    {
      "cell_type": "code",
      "metadata": {
        "id": "m02VEKnw0xjO",
        "colab_type": "code",
        "colab": {}
      },
      "source": [
        "df = pd.DataFrame({'date':df['Date'], 'total_kasus':df['Cumulative_cases']})\n",
        "df.head()"
      ],
      "execution_count": null,
      "outputs": []
    },
    {
      "cell_type": "code",
      "metadata": {
        "id": "Jk0zaxx41w-z",
        "colab_type": "code",
        "colab": {}
      },
      "source": [
        "df.date = pd.to_datetime(df.date)\n",
        "\n",
        "df.head()"
      ],
      "execution_count": null,
      "outputs": []
    },
    {
      "cell_type": "code",
      "metadata": {
        "id": "3di3cB2A2D1c",
        "colab_type": "code",
        "colab": {}
      },
      "source": [
        "df = df.set_index('date')\n",
        "df.head()"
      ],
      "execution_count": null,
      "outputs": []
    },
    {
      "cell_type": "code",
      "metadata": {
        "id": "8htAYk0B2In9",
        "colab_type": "code",
        "colab": {}
      },
      "source": [
        "df.info()"
      ],
      "execution_count": null,
      "outputs": []
    },
    {
      "cell_type": "code",
      "metadata": {
        "id": "diZSw5qV2RgR",
        "colab_type": "code",
        "colab": {}
      },
      "source": [
        "df.index.freq = 'D'"
      ],
      "execution_count": null,
      "outputs": []
    },
    {
      "cell_type": "code",
      "metadata": {
        "id": "JDz9HS6F2aHD",
        "colab_type": "code",
        "colab": {}
      },
      "source": [
        "ax = df['total_kasus'].plot(figsize=(16,5), title='Cumulative Cases Covid-19')\n",
        "ax.set(xlabel='Date', ylabel='Cumulative Cases')"
      ],
      "execution_count": null,
      "outputs": []
    },
    {
      "cell_type": "code",
      "metadata": {
        "id": "VNQmSjvL27Q_",
        "colab_type": "code",
        "colab": {}
      },
      "source": [
        "sea = seasonal_decompose(df['total_kasus'], model='add')\n",
        "sea.plot();"
      ],
      "execution_count": null,
      "outputs": []
    },
    {
      "cell_type": "code",
      "metadata": {
        "id": "LXnZwE5G3Fs_",
        "colab_type": "code",
        "colab": {}
      },
      "source": [
        "import matplotlib.pyplot as plt\n",
        "plt.figure(figsize=(16,7))\n",
        "sea.seasonal.plot()"
      ],
      "execution_count": null,
      "outputs": []
    },
    {
      "cell_type": "code",
      "metadata": {
        "id": "mFoc6uZT44dh",
        "colab_type": "code",
        "colab": {}
      },
      "source": [
        "auto_arima(df['total_kasus'], seasonal=False,\n",
        "           max_p=5, max_d=5, max_q=5,\n",
        "           max_P=3, max_D=3, max_Q=3).summary()"
      ],
      "execution_count": null,
      "outputs": []
    },
    {
      "cell_type": "code",
      "metadata": {
        "id": "ENZ3Dw2E5gFb",
        "colab_type": "code",
        "colab": {}
      },
      "source": [
        "train_data = df[:len(df)-7]\n",
        "test_data = df[len(df)-7:]\n",
        "\n",
        "arima = SARIMAX(train_data['total_kasus'],\n",
        "                order=(0,2,2))\n",
        "arima_result = arima.fit()\n",
        "arima_result.summary()"
      ],
      "execution_count": null,
      "outputs": []
    },
    {
      "cell_type": "code",
      "metadata": {
        "id": "g65PsR2U6L7U",
        "colab_type": "code",
        "colab": {}
      },
      "source": [
        "arima_pred = arima_result.predict(start=len(train_data),\n",
        "                                  end= len(df)-1,\n",
        "                                  typ='levels').rename('ID-Covid19 Prediction')\n",
        "arima_pred"
      ],
      "execution_count": null,
      "outputs": []
    },
    {
      "cell_type": "code",
      "metadata": {
        "id": "eueRHnlv6nfh",
        "colab_type": "code",
        "colab": {}
      },
      "source": [
        "test_data['total_kasus'].plot(figsize = (16,5), legend=True)\n",
        "arima_pred.plot(legend=True)"
      ],
      "execution_count": null,
      "outputs": []
    },
    {
      "cell_type": "code",
      "metadata": {
        "id": "brLHbSW3658Z",
        "colab_type": "code",
        "colab": {}
      },
      "source": [
        "test_data['ARIMA_Pred'] = arima_pred\n",
        "test_data"
      ],
      "execution_count": null,
      "outputs": []
    },
    {
      "cell_type": "code",
      "metadata": {
        "id": "PHm0ww7Q7BvT",
        "colab_type": "code",
        "colab": {}
      },
      "source": [
        "arima_rmse_error = rmse(test_data['total_kasus'], arima_pred)\n",
        "arima_mse_error = arima_rmse_error**2\n",
        "mean_value = df['total_kasus'].mean()\n",
        "print(f'MSE Error: {arima_mse_error}\\nRMSE Error: {arima_rmse_error}\\nMean:{mean_value}')"
      ],
      "execution_count": null,
      "outputs": []
    },
    {
      "cell_type": "code",
      "metadata": {
        "id": "BESqlXS37j3G",
        "colab_type": "code",
        "colab": {}
      },
      "source": [
        "# LSTM\n",
        "from sklearn.preprocessing import MinMaxScaler\n",
        "scaler = MinMaxScaler()\n",
        "\n",
        "scaler.fit(train_data)\n",
        "scaled_train_data = scaler.transform(train_data)\n",
        "scaled_test_data = scaler.transform(test_data)"
      ],
      "execution_count": null,
      "outputs": []
    },
    {
      "cell_type": "code",
      "metadata": {
        "id": "-ELIIwlG8WYQ",
        "colab_type": "code",
        "colab": {}
      },
      "source": [
        "from keras.preprocessing.sequence import TimeseriesGenerator\n",
        "\n",
        "n_input = train_data.shape[1]\n",
        "n_features = 1\n",
        "\n",
        "generator = TimeseriesGenerator(scaled_train_data, \n",
        "                                scaled_train_data, \n",
        "                                length=n_input,\n",
        "                                batch_size=1)"
      ],
      "execution_count": null,
      "outputs": []
    },
    {
      "cell_type": "code",
      "metadata": {
        "id": "1MD2md1H_BnU",
        "colab_type": "code",
        "colab": {}
      },
      "source": [
        "from keras.models import Sequential\n",
        "from keras.layers import Dense, LSTM\n",
        "\n",
        "lstm_model = Sequential()\n",
        "lstm_model.add(LSTM(200, activation='relu', input_shape=(n_input, n_features)))\n",
        "lstm_model.add(Dense(1))\n",
        "lstm_model.compile(optimizer='adam', loss='mse')\n",
        "\n",
        "lstm_model.summary()"
      ],
      "execution_count": null,
      "outputs": []
    },
    {
      "cell_type": "code",
      "metadata": {
        "id": "YTCKdKaXArwj",
        "colab_type": "code",
        "colab": {}
      },
      "source": [
        "lstm_model.fit_generator(generator, epochs=20)"
      ],
      "execution_count": null,
      "outputs": []
    },
    {
      "cell_type": "code",
      "metadata": {
        "id": "NmV_SSpoA3nC",
        "colab_type": "code",
        "colab": {}
      },
      "source": [
        "losses_lstm = lstm_model.history.history['loss']\n",
        "plt.figure(figsize=(14,5))\n",
        "plt.xlabel('Epochs')\n",
        "plt.ylabel('Loss')\n",
        "plt.xticks(np.arange(0,21,1))\n",
        "plt.plot(range(len(losses_lstm)), losses_lstm)"
      ],
      "execution_count": null,
      "outputs": []
    },
    {
      "cell_type": "code",
      "metadata": {
        "id": "MZuCL_LJBc12",
        "colab_type": "code",
        "colab": {}
      },
      "source": [
        "lstm_prediction_scaled = list()\n",
        "\n",
        "batch = scaled_train_data[-n_input:]\n",
        "current_batch = batch.reshape((1, n_input, n_features))\n",
        "\n",
        "for i in range(len(test_data)):\n",
        "  lstm_pred = lstm_model.predict(current_batch)[0]\n",
        "  lstm_prediction_scaled.append(lstm_pred)\n",
        "  current_batch = np.append(current_batch[:,1:,:], [[lstm_pred]], axis=1)"
      ],
      "execution_count": null,
      "outputs": []
    },
    {
      "cell_type": "code",
      "metadata": {
        "id": "izAScjrrCkbg",
        "colab_type": "code",
        "colab": {}
      },
      "source": [
        "lstm_prediction_scaled"
      ],
      "execution_count": null,
      "outputs": []
    },
    {
      "cell_type": "code",
      "metadata": {
        "id": "jv_G60MNCqX3",
        "colab_type": "code",
        "colab": {}
      },
      "source": [
        "lstm_prediction = scaler.inverse_transform(lstm_prediction_scaled)\n",
        "\n",
        "\n",
        "lstm_prediction"
      ],
      "execution_count": null,
      "outputs": []
    },
    {
      "cell_type": "code",
      "metadata": {
        "id": "MhKlv219C4CS",
        "colab_type": "code",
        "colab": {}
      },
      "source": [
        "test_data['LSTM_Prediction'] = lstm_prediction\n",
        "\n",
        "test_data"
      ],
      "execution_count": null,
      "outputs": []
    },
    {
      "cell_type": "code",
      "metadata": {
        "id": "neBI_mWbDppl",
        "colab_type": "code",
        "colab": {}
      },
      "source": [
        "test_data['total_kasus'].plot(figsize=(16,5), legend=True)\n",
        "test_data['LSTM_Prediction'].plot(legend=True)"
      ],
      "execution_count": null,
      "outputs": []
    },
    {
      "cell_type": "code",
      "metadata": {
        "id": "phCyPWuwEJ-n",
        "colab_type": "code",
        "colab": {}
      },
      "source": [
        "lstm_rmse_error = rmse(test_data['total_kasus'], test_data['LSTM_Prediction'])\n",
        "lstm_mse_error = lstm_rmse_error**2\n",
        "mean_value = df['total_kasus'].mean()\n",
        "print(f'MSE Error: {lstm_mse_error}\\nRMSE Error: {lstm_rmse_error}\\nMean:{mean_value}')"
      ],
      "execution_count": null,
      "outputs": []
    },
    {
      "cell_type": "code",
      "metadata": {
        "id": "EjMHPdJ5FtRQ",
        "colab_type": "code",
        "colab": {}
      },
      "source": [
        "rmse_error = [arima_rmse_error, lstm_rmse_error]\n",
        "mse_error = [arima_mse_error, lstm_mse_error]\n",
        "\n",
        "errors = pd.DataFrame({'Model':['ARIMA', 'LSTM'],\n",
        "                       'RMSE Errors': rmse_error,\n",
        "                       'MSE Errors': mse_error})\n",
        "\n",
        "errors"
      ],
      "execution_count": null,
      "outputs": []
    },
    {
      "cell_type": "code",
      "metadata": {
        "id": "meL_mGhHGIt0",
        "colab_type": "code",
        "colab": {}
      },
      "source": [
        "future_pred = arima_result.predict(start=len(df),\n",
        "                                   end=len(df)+10,\n",
        "                                   typ='levels').rename('Covid-19 Indonesian Prediction')\n",
        "future_pred"
      ],
      "execution_count": null,
      "outputs": []
    },
    {
      "cell_type": "code",
      "metadata": {
        "id": "1lRuwFjAHaWA",
        "colab_type": "code",
        "colab": {}
      },
      "source": [
        ""
      ],
      "execution_count": null,
      "outputs": []
    }
  ]
}